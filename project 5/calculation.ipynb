{
 "cells": [
  {
   "cell_type": "code",
   "execution_count": 1,
   "id": "1823ebfa",
   "metadata": {},
   "outputs": [
    {
     "name": "stdout",
     "output_type": "stream",
     "text": [
      "Top residues by total frequency:\n",
      "Residue 60: 4.00\n",
      "Residue 62: 4.00\n",
      "Residue 63: 4.00\n",
      "Residue 59: 3.75\n",
      "Residue 68: 2.82\n",
      "Residue 99: 1.82\n",
      "Residue 96: 1.72\n",
      "Residue 35: 1.38\n",
      "Residue 36: 1.21\n",
      "Residue 37: 1.10\n"
     ]
    }
   ],
   "source": [
    "import numpy as np\n",
    "from collections import defaultdict\n",
    "\n",
    "# List your 4 .npy files here\n",
    "files = [\"gdp_bound_wtres61_contacts.npy\", \"gtp_bound_q61rres61_contacts.npy\", \"gdp_bound_q61rres61_contacts.npy\", \"gtp_bound_q61rres61_contacts.npy\"]\n",
    "\n",
    "# Combine frequencies from all files\n",
    "combined = defaultdict(float)\n",
    "\n",
    "for f in files:\n",
    "    data = np.load(f, allow_pickle=True)\n",
    "    for resid, freq in data:\n",
    "        combined[int(resid)] += float(freq)\n",
    "\n",
    "# Convert to array for sorting\n",
    "combined_array = np.array(sorted(combined.items(), key=lambda x: x[1], reverse=True))\n",
    "\n",
    "# Save combined results\n",
    "np.save(\"combined_contact.npy\", combined_array)\n",
    "\n",
    "# Print top residues\n",
    "print(\"Top residues by total frequency:\")\n",
    "for resid, total_freq in combined_array[:10]:\n",
    "    print(f\"Residue {int(resid)}: {total_freq:.2f}\")\n"
   ]
  }
 ],
 "metadata": {
  "kernelspec": {
   "display_name": "struct",
   "language": "python",
   "name": "python3"
  },
  "language_info": {
   "codemirror_mode": {
    "name": "ipython",
    "version": 3
   },
   "file_extension": ".py",
   "mimetype": "text/x-python",
   "name": "python",
   "nbconvert_exporter": "python",
   "pygments_lexer": "ipython3",
   "version": "3.12.11"
  }
 },
 "nbformat": 4,
 "nbformat_minor": 5
}
